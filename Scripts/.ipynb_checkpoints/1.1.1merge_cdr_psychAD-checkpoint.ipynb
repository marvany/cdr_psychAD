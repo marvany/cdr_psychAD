{
 "cells": [
  {
   "cell_type": "code",
   "execution_count": 1,
   "metadata": {},
   "outputs": [],
   "source": [
    "import os\n",
    "import pandas as pd\n",
    "import numpy as np\n",
    "import glob\n",
    "from pathlib import Path\n",
    "from sklearn.linear_model import LogisticRegression"
   ]
  },
  {
   "cell_type": "code",
   "execution_count": 2,
   "metadata": {},
   "outputs": [],
   "source": [
    "# returns the row/cell of column 'target_col' where for that row in column 'search_col' the value is 'row_val' \n",
    "def fval(self, search_col, row_val, target_col = None):\n",
    "    if target_col == None:\n",
    "        target_col = slice(None)\n",
    "    if row_val == None:\n",
    "        return self.loc[self.loc[:, search_col].isnull(), target_col]\n",
    "    return self.loc[self.loc[:, search_col] == row_val, target_col]\n",
    "\n",
    "# filters the rows that have na values at column 'col_name'\n",
    "def filtna(self, col_name):\n",
    "    return self[~self.loc[:,col_name].isnull()]\n",
    "\n",
    "# for a specific column with 'col_name' returns the number of matched items between two dataframes + reports it\n",
    "def fmatch(self, other_df, col_name):\n",
    "    matched = self.loc[:, col_name].isin(other_df.loc[:,col_name])\n",
    "    print('The two dataframes have', matched.sum(), 'common elements for column', col_name)\n",
    "    return matched.sum()\n",
    "\n",
    "pd.DataFrame.fval = fval\n",
    "pd.DataFrame.filtna = filtna\n",
    "pd.DataFrame.fmatch = fmatch"
   ]
  },
  {
   "cell_type": "code",
   "execution_count": 3,
   "metadata": {},
   "outputs": [],
   "source": [
    "# Change working directory\n",
    "os.chdir('/sc/arion/projects/va-biobank/PROJECTS/ma_cdr_psychAD/')\n",
    "os.chdir('/sc/arion/projects/va-biobank/PROJECTS/ma_cdr_psychAD/')"
   ]
  },
  {
   "cell_type": "code",
   "execution_count": 4,
   "metadata": {},
   "outputs": [],
   "source": [
    "# Find all paths for dataframes that contain 'all_compound' in their name\n",
    "#path = Path('/sc/arion/projects/va-biobank/PROJECTS/marios_temp/parallel_antagonism/working.directories/psychAD_V3/results/GTP_CDR/wilcoxRank/results')\n",
    "path = Path('/sc/arion/projects/va-biobank/PROJECTS/marios_temp/parallel_antagonism/working.directories/psychAD_V4/results/GTP_CDR/wilcoxRank/results')\n",
    "\n",
    "file_paths = list(path.rglob('*all_compound*'))"
   ]
  },
  {
   "cell_type": "code",
   "execution_count": 5,
   "metadata": {},
   "outputs": [],
   "source": [
    "## MERGE CDR RESULTS IN A SINGLE DATAFRAME\n",
    "\n",
    "# Load columns 'pert_iname' and 'Compound.pseudo.zscore' of the first dataframe (we will use this as template)\n",
    "df_main = pd.read_csv(file_paths[0], usecols=['pert_iname', 'Compound.pseudo.zscore'])\n",
    "\n",
    "# Rename the column to retain individual ID info\n",
    "df_main = df_main.rename(columns={'Compound.pseudo.zscore':file_paths[0].parent.parent.name})\n",
    "\n",
    "# Iterate over list of paths\n",
    "for f in file_paths[1:]:\n",
    "    # Load the two columns of the new df\n",
    "    df_next = pd.read_csv(f, usecols=['pert_iname', 'Compound.pseudo.zscore'])\n",
    "    # Rename the pseudo.zscore column to retain the ind ID\n",
    "    df_next = df_next.rename(columns={'Compound.pseudo.zscore':f.parent.parent.name})\n",
    "    # left_join\n",
    "    df_main = df_main.merge(df_next, on = 'pert_iname', how = 'left')\n",
    "\n",
    "# pert_iname will be the temporary index column\n",
    "df_main = df_main.rename(columns={'pert_iname':'index'})\n",
    "\n",
    "#  .set_index() converts the rows of a column to \"rownames\"\n",
    "df_main = df_main.set_index('index').T\n",
    "\n"
   ]
  },
  {
   "cell_type": "code",
   "execution_count": 15,
   "metadata": {},
   "outputs": [],
   "source": [
    "df_main = df_backup"
   ]
  },
  {
   "cell_type": "code",
   "execution_count": 16,
   "metadata": {},
   "outputs": [
    {
     "name": "stdout",
     "output_type": "stream",
     "text": [
      "Ind. 121638 has 18 NAs in total\n",
      "Ind. 7_200876190005_R03C01 has 6 NAs in total\n",
      "Ind. 35987 has 39 NAs in total\n",
      "Ind. 175364 has 1 NAs in total\n",
      "Ind. 137045 has 2 NAs in total\n",
      "Ind. 34454 has 19 NAs in total\n",
      "Ind. 34724 has 4 NAs in total\n",
      "Ind. 19468 has 26 NAs in total\n",
      "Ind. 35515 has 7 NAs in total\n",
      "Ind. 173400 has 1 NAs in total\n",
      "Ind. 115838 has 11 NAs in total\n",
      "Ind. 207 has 13 NAs in total\n",
      "Ind. 4_202429290026_R04C01 has 14 NAs in total\n",
      "In total 13 individuals have NA values and will be removed.\n"
     ]
    }
   ],
   "source": [
    "# Identify individuals with NA values \n",
    "rows_with_na = df_main.isna().any(axis=1)\n",
    "individuals_with_na = df_main[rows_with_na].index\n",
    "[print(f'Ind. {thisind} has {df_main.loc[thisind,:].isna().sum()} NAs in total') for thisind in individuals_with_na]\n",
    "\n",
    "print(f'In total {df_main.shape[0] - df_main.dropna(axis=0).shape[0]} individuals have NA values and will be removed.')"
   ]
  },
  {
   "cell_type": "code",
   "execution_count": 17,
   "metadata": {},
   "outputs": [],
   "source": [
    "# Remove NA values\n",
    "df_main = df_main.dropna(axis=0)\n",
    "\n",
    "# Reset index and rename columns\n",
    "df_main = df_main.reset_index()\n",
    "df_main = df_main.rename(columns={'index':'ind_ID'})"
   ]
  },
  {
   "cell_type": "code",
   "execution_count": 18,
   "metadata": {},
   "outputs": [
    {
     "data": {
      "text/html": [
       "<div>\n",
       "<style scoped>\n",
       "    .dataframe tbody tr th:only-of-type {\n",
       "        vertical-align: middle;\n",
       "    }\n",
       "\n",
       "    .dataframe tbody tr th {\n",
       "        vertical-align: top;\n",
       "    }\n",
       "\n",
       "    .dataframe thead th {\n",
       "        text-align: right;\n",
       "    }\n",
       "</style>\n",
       "<table border=\"1\" class=\"dataframe\">\n",
       "  <thead>\n",
       "    <tr style=\"text-align: right;\">\n",
       "      <th></th>\n",
       "      <th>ind_ID_clin</th>\n",
       "      <th>Brain_bank</th>\n",
       "      <th>Age</th>\n",
       "      <th>Sex</th>\n",
       "      <th>Sex_chr_aneuploidy</th>\n",
       "    </tr>\n",
       "  </thead>\n",
       "  <tbody>\n",
       "    <tr>\n",
       "      <th>0</th>\n",
       "      <td>M3284</td>\n",
       "      <td>MSSM</td>\n",
       "      <td>93.0</td>\n",
       "      <td>Female</td>\n",
       "      <td>NaN</td>\n",
       "    </tr>\n",
       "    <tr>\n",
       "      <th>1</th>\n",
       "      <td>M12846</td>\n",
       "      <td>MSSM</td>\n",
       "      <td>83.0</td>\n",
       "      <td>Female</td>\n",
       "      <td>NaN</td>\n",
       "    </tr>\n",
       "    <tr>\n",
       "      <th>2</th>\n",
       "      <td>M16747</td>\n",
       "      <td>MSSM</td>\n",
       "      <td>74.0</td>\n",
       "      <td>Male</td>\n",
       "      <td>NaN</td>\n",
       "    </tr>\n",
       "    <tr>\n",
       "      <th>3</th>\n",
       "      <td>M28611</td>\n",
       "      <td>MSSM</td>\n",
       "      <td>79.0</td>\n",
       "      <td>Male</td>\n",
       "      <td>NaN</td>\n",
       "    </tr>\n",
       "    <tr>\n",
       "      <th>4</th>\n",
       "      <td>M28710</td>\n",
       "      <td>MSSM</td>\n",
       "      <td>82.0</td>\n",
       "      <td>Female</td>\n",
       "      <td>NaN</td>\n",
       "    </tr>\n",
       "  </tbody>\n",
       "</table>\n",
       "</div>"
      ],
      "text/plain": [
       "  ind_ID_clin Brain_bank   Age     Sex Sex_chr_aneuploidy\n",
       "0       M3284       MSSM  93.0  Female                NaN\n",
       "1      M12846       MSSM  83.0  Female                NaN\n",
       "2      M16747       MSSM  74.0    Male                NaN\n",
       "3      M28611       MSSM  79.0    Male                NaN\n",
       "4      M28710       MSSM  82.0  Female                NaN"
      ]
     },
     "execution_count": 18,
     "metadata": {},
     "output_type": "execute_result"
    }
   ],
   "source": [
    "## PREPARE psychAD DATA\n",
    "df = pd.read_csv('./Resources/psychAD/clinical_metadata.csv')\n",
    "df = df[(df['Ethnicity'] == 'EUR')]\n",
    "df = df.rename(columns={'SubID':'ind_ID_clin'})\n",
    "df_psychAD = df\n",
    "df_psychAD.iloc[:5,:5]\n"
   ]
  },
  {
   "cell_type": "code",
   "execution_count": 22,
   "metadata": {},
   "outputs": [
    {
     "name": "stdout",
     "output_type": "stream",
     "text": [
      "index                         ind_ID  BRD-A56332531  stemregenin-1\n",
      "0      G-MSBB-MB000257-BR-MSBB-71912       1.840652       1.796896\n",
      "1                8_3999338075_R04C01       1.268373       1.293705\n",
      "2                             112738       1.124536       1.335197\n",
      "3                             214639       0.892648       1.099458\n",
      "4                             140650       0.944899       0.997724\n",
      "          IID  mod_IIDs   SubID       PC1       PC2       PC3       PC4\n",
      "0  0_MSSM_109  MSSM_109  M87879 -0.014733  0.037377  0.007169 -0.000278\n",
      "1  0_MSSM_112  MSSM_112  M79245 -0.016455 -0.025708 -0.016513 -0.011320\n",
      "2  0_MSSM_115  MSSM_115  M99132 -0.014894  0.039530  0.007221  0.001165\n",
      "3   0_MSSM_12   MSSM_12  M36086 -0.014633  0.040327  0.006924 -0.000166\n",
      "4  0_MSSM_129  MSSM_129  M12876 -0.000705 -0.013395  0.013946  0.026244\n"
     ]
    }
   ],
   "source": [
    "# Map the patient IDs of CDR results to the psychAD clinical metadata\n",
    "\n",
    "cdr_results = df_main #for clarity\n",
    "\n",
    "# Load the ID mappings dataframe\n",
    "mypath = '/sc/arion/projects/roussp01a/deepika/merging_psychAD_SNParray_WGS/common_variants_psychAD/ancestry_pca_psychAD_1429_samples/psychAD_20PC_3_methods_ancestry.tsv'\n",
    "\n",
    "# idmap contains mappings of IDs\n",
    "idmap = pd.read_csv(mypath, sep='\\t')\n",
    "\n",
    "print(cdr_results.iloc[:5,:3]) # ind_ID has patient ID in \n",
    "\n",
    "print(idmap.iloc[:5,:7]) # column IID matches cdr results, column SubID matches psychAD\n",
    "\n",
    "#cdr_results.loc[:,'ind_ID']\n"
   ]
  },
  {
   "cell_type": "code",
   "execution_count": 23,
   "metadata": {},
   "outputs": [
    {
     "data": {
      "text/html": [
       "<div>\n",
       "<style scoped>\n",
       "    .dataframe tbody tr th:only-of-type {\n",
       "        vertical-align: middle;\n",
       "    }\n",
       "\n",
       "    .dataframe tbody tr th {\n",
       "        vertical-align: top;\n",
       "    }\n",
       "\n",
       "    .dataframe thead th {\n",
       "        text-align: right;\n",
       "    }\n",
       "</style>\n",
       "<table border=\"1\" class=\"dataframe\">\n",
       "  <thead>\n",
       "    <tr style=\"text-align: right;\">\n",
       "      <th>index</th>\n",
       "      <th>ind_ID</th>\n",
       "      <th>ind_ID_clin</th>\n",
       "      <th>BRD-A56332531</th>\n",
       "      <th>stemregenin-1</th>\n",
       "      <th>moxaverine</th>\n",
       "    </tr>\n",
       "  </thead>\n",
       "  <tbody>\n",
       "    <tr>\n",
       "      <th>0</th>\n",
       "      <td>G-MSBB-MB000257-BR-MSBB-71912</td>\n",
       "      <td>M97594</td>\n",
       "      <td>1.840652</td>\n",
       "      <td>1.796896</td>\n",
       "      <td>1.720447</td>\n",
       "    </tr>\n",
       "    <tr>\n",
       "      <th>1</th>\n",
       "      <td>8_3999338075_R04C01</td>\n",
       "      <td>H2573</td>\n",
       "      <td>1.268373</td>\n",
       "      <td>1.293705</td>\n",
       "      <td>1.202970</td>\n",
       "    </tr>\n",
       "    <tr>\n",
       "      <th>2</th>\n",
       "      <td>112738</td>\n",
       "      <td>M54382</td>\n",
       "      <td>1.124536</td>\n",
       "      <td>1.335197</td>\n",
       "      <td>1.803811</td>\n",
       "    </tr>\n",
       "    <tr>\n",
       "      <th>3</th>\n",
       "      <td>214639</td>\n",
       "      <td>M11716</td>\n",
       "      <td>0.892648</td>\n",
       "      <td>1.099458</td>\n",
       "      <td>1.607863</td>\n",
       "    </tr>\n",
       "    <tr>\n",
       "      <th>4</th>\n",
       "      <td>140650</td>\n",
       "      <td>M64012</td>\n",
       "      <td>0.944899</td>\n",
       "      <td>0.997724</td>\n",
       "      <td>1.255344</td>\n",
       "    </tr>\n",
       "  </tbody>\n",
       "</table>\n",
       "</div>"
      ],
      "text/plain": [
       "index                         ind_ID ind_ID_clin  BRD-A56332531  \\\n",
       "0      G-MSBB-MB000257-BR-MSBB-71912      M97594       1.840652   \n",
       "1                8_3999338075_R04C01       H2573       1.268373   \n",
       "2                             112738      M54382       1.124536   \n",
       "3                             214639      M11716       0.892648   \n",
       "4                             140650      M64012       0.944899   \n",
       "\n",
       "index  stemregenin-1  moxaverine  \n",
       "0           1.796896    1.720447  \n",
       "1           1.293705    1.202970  \n",
       "2           1.335197    1.803811  \n",
       "3           1.099458    1.607863  \n",
       "4           0.997724    1.255344  "
      ]
     },
     "execution_count": 23,
     "metadata": {},
     "output_type": "execute_result"
    }
   ],
   "source": [
    "cdr_id = {}\n",
    "for key in cdr_results.loc[:, 'ind_ID']:\n",
    "    # extract subid from idmap (contains the mappings across various ID formats)\n",
    "    subid = idmap.loc[idmap.iloc[:,0] == key,'SubID'].values[0]\n",
    "    # create new column in cdr_results that will match the subid\n",
    "    cdr_results.loc[cdr_results.loc[:,'ind_ID']==key, 'ind_ID_clin'] = subid\n",
    "\n",
    "# df.insert(index, 'colname', series.obj) ; adds in the indexed position, a column with 'colname' that is populated with 'series.obj'\n",
    "# df.pop('colname') return a series obj from column with name 'colname'\n",
    "cdr_results.insert(1, 'ind_ID_clin', cdr_results.pop('ind_ID_clin'))\n",
    "cdr_results.iloc[:5,:5]"
   ]
  },
  {
   "cell_type": "code",
   "execution_count": 56,
   "metadata": {},
   "outputs": [
    {
     "data": {
      "text/plain": [
       "981"
      ]
     },
     "execution_count": 56,
     "metadata": {},
     "output_type": "execute_result"
    }
   ],
   "source": [
    "cdr_results.shape[0]"
   ]
  },
  {
   "cell_type": "code",
   "execution_count": 24,
   "metadata": {},
   "outputs": [
    {
     "name": "stdout",
     "output_type": "stream",
     "text": [
      "Final df_merged.shape[0] is 981\n",
      "(981, 4129) (1193, 384) (981, 4512)\n",
      "Null values for df_psychAD.loc[:, \"Dementia\"] : 211\n",
      "Null values for df_merged.loc[:, \"Dementia\"] : 183\n",
      "Null values for df_merged.loc[:, \"roxithromycin\"] : 0\n",
      "After filtering Null values for df_psychAD.loc[:, \"Dementia\"] : 211\n",
      "After filtering Null values for df_merged.loc[:, \"Dementia\"] : 183\n",
      "After filtering Null values for df_merged.loc[:, \"roxithromycin\"] : 0\n",
      "Final df_merged.shape[0] is 981\n"
     ]
    }
   ],
   "source": [
    "## Merge dataframes\n",
    "df_merged = cdr_results.merge(df_psychAD, on = 'ind_ID_clin', how = 'left')\n",
    "print('Final df_merged.shape[0] is', df_merged.shape[0])\n",
    "\n",
    "## Ensure successuful merging\n",
    "print(cdr_results.shape, df_psychAD.shape, df_merged.shape)\n",
    "\n",
    "print('Null values for df_psychAD.loc[:, \"Dementia\"] :' , df_psychAD.loc[:, 'Dementia'].isnull().sum())\n",
    "print('Null values for df_merged.loc[:, \"Dementia\"] :' , df_merged.loc[:,'Dementia'].isnull().sum())\n",
    "print('Null values for df_merged.loc[:, \"roxithromycin\"] :' , df_main.loc[:,'roxithromycin'].isnull().sum())\n",
    "\n",
    "# returns for a specific column with 'col_name', the number of matched items between two dataframes + reports it\n",
    "#df_merged.fmatch(df_psychAD, 'ind_ID_clin')\n",
    "\n",
    "# filters out rows which have na values at column dementia\n",
    "#df_merged = df_merged.filtna('Dementia')\n",
    "\n",
    "\n",
    "print('After filtering Null values for df_psychAD.loc[:, \"Dementia\"] :' , df_psychAD.loc[:, 'Dementia'].isnull().sum())\n",
    "print('After filtering Null values for df_merged.loc[:, \"Dementia\"] :' , df_merged.loc[:,'Dementia'].isnull().sum())\n",
    "print('After filtering Null values for df_merged.loc[:, \"roxithromycin\"] :' , df_main.loc[:,'roxithromycin'].isnull().sum())\n",
    "\n",
    "print('Final df_merged.shape[0] is', df_merged.shape[0])\n"
   ]
  },
  {
   "cell_type": "code",
   "execution_count": 58,
   "metadata": {},
   "outputs": [],
   "source": [
    "path_to_export = '/sc/arion/projects/va-biobank/PROJECTS/ma_cdr_psychAD/Resources/result_analysis'\n",
    "file_name = 'cdr_psychAD_IC_microglia_v4.csv'\n",
    "df_merged.to_csv(os.path.join(path_to_export, file_name), index=False)"
   ]
  },
  {
   "cell_type": "code",
   "execution_count": 38,
   "metadata": {},
   "outputs": [
    {
     "data": {
      "text/html": [
       "<div>\n",
       "<style scoped>\n",
       "    .dataframe tbody tr th:only-of-type {\n",
       "        vertical-align: middle;\n",
       "    }\n",
       "\n",
       "    .dataframe tbody tr th {\n",
       "        vertical-align: top;\n",
       "    }\n",
       "\n",
       "    .dataframe thead th {\n",
       "        text-align: right;\n",
       "    }\n",
       "</style>\n",
       "<table border=\"1\" class=\"dataframe\">\n",
       "  <thead>\n",
       "    <tr style=\"text-align: right;\">\n",
       "      <th></th>\n",
       "      <th>ind_ID</th>\n",
       "      <th>Brain_bank</th>\n",
       "      <th>Age</th>\n",
       "      <th>Sex</th>\n",
       "      <th>Sex_chr_aneuploidy</th>\n",
       "      <th>Ethnicity</th>\n",
       "      <th>Dx</th>\n",
       "      <th>pH</th>\n",
       "      <th>PMI</th>\n",
       "      <th>Source_Location</th>\n",
       "      <th>...</th>\n",
       "      <th>LewyDorsalVValue</th>\n",
       "      <th>CDR_Memory</th>\n",
       "      <th>CDR_Orientation</th>\n",
       "      <th>CDR_Judgement</th>\n",
       "      <th>CDR_Community</th>\n",
       "      <th>CDR_HomeHobbies</th>\n",
       "      <th>CDR_PersonalCare</th>\n",
       "      <th>CDR_SumBoxes</th>\n",
       "      <th>Cognitive_Resilience</th>\n",
       "      <th>Cognitive_and_Tau_Resilience</th>\n",
       "    </tr>\n",
       "  </thead>\n",
       "  <tbody>\n",
       "  </tbody>\n",
       "</table>\n",
       "<p>0 rows × 384 columns</p>\n",
       "</div>"
      ],
      "text/plain": [
       "Empty DataFrame\n",
       "Columns: [ind_ID, Brain_bank, Age, Sex, Sex_chr_aneuploidy, Ethnicity, Dx, pH, PMI, Source_Location, Death_Time, Death_Day, Death_Month, Death_Season, CERAD, BRAAK_AD, BRAAK_PD, CDRScore, Plq_Mn, Plq_Mn_MFG, ApoE_gt, CMC_individual_ID, AMPAD_msbb_individualID, snRNAseq_ID, multiome_DLPFC, AD, MCI, Dementia, PD, PD_uncertain_plus_encephalitic, DLBD, FTD, ALS, NormPressHydrocephalus, ArgyrophilicGrain, CerebralAtrophy, Tauopathy, Others_Neurodegenerative, MS, PSP, Epilepsy, Seizures, Tumor, Migraine_headaches, Head_Injury, Vascular, Others_Neurological, Leucotomy, SCZ, MDD, BD_unspecific, BD_I, BD_II, PTSD, ADHD, OCD, Tardive_Dyskinesia_Neuroleptic_induced, Schizoaffective_bipolar, Schizoaffective_depressive, Anorexia, Bulimia, Anxiety, Binge_Purge, Eating_disorder, Others_Neuropsychiatric, Diabetes_mellitus_unspecified, ASHCVD, TD_I, TD_II, primary_genotype, SNParray_HBBC, SNParray_CommonMind, WGS_CommonMind, WGS_RUSH, WGS_Ampad, SNParray_Microglia, SNParray_PsychAD, ADSP_SampleId, Imaging_XENum, nps_MoodDysCurValue, nps_DecIntCurValue, nps_WtLossCurValue, nps_DecAppCurValue, nps_WtGainCurValue, nps_EarlyInsomCurValue, nps_MidInsomCurValue, nps_LateInsomCurValue, nps_HypersomCurValue, nps_PsychoAgiCurValue, nps_PsychoRetardCurValue, nps_FatCurValue, nps_WorthCurValue, nps_DelCurValue, nps_RumCurValue, nps_ThoughtDeathCurValue, nps_Last2WkCurValue, nps_SixMoCurValue, nps_LifeCurValue, nps_MoodDysHxValue, nps_DecIntHxValue, ...]\n",
       "Index: []\n",
       "\n",
       "[0 rows x 384 columns]"
      ]
     },
     "execution_count": 38,
     "metadata": {},
     "output_type": "execute_result"
    }
   ],
   "source": [
    "df_psychAD[df_psychAD.loc[:,'ind_ID'].isin(df_main.loc[:,'ind_ID'])]"
   ]
  },
  {
   "cell_type": "code",
   "execution_count": 37,
   "metadata": {},
   "outputs": [
    {
     "name": "stdout",
     "output_type": "stream",
     "text": [
      "Overlapping strings:\n",
      "1    banana\n",
      "2    cherry\n",
      "dtype: object\n"
     ]
    }
   ],
   "source": [
    "import pandas as pd\n",
    "\n",
    "# Example Series\n",
    "series1 = pd.Series(['apple', 'banana', 'cherry', 'date'])\n",
    "series2 = pd.Series(['banana', 'cherry', 'fig', 'grape'])\n",
    "\n",
    "# Check for overlapping strings\n",
    "overlap = series1[series1.isin(series2)]\n",
    "\n",
    "print(\"Overlapping strings:\")\n",
    "print(overlap)\n"
   ]
  },
  {
   "cell_type": "code",
   "execution_count": 4,
   "metadata": {},
   "outputs": [
    {
     "name": "stderr",
     "output_type": "stream",
     "text": [
      "/sc/arion/projects/va-biobank/PROJECTS/ma_cdr_psychAD/my_env/lib/python3.12/site-packages/sklearn/linear_model/_logistic.py:465: ConvergenceWarning: lbfgs failed to converge (status=1):\n",
      "STOP: TOTAL NO. of ITERATIONS REACHED LIMIT.\n",
      "\n",
      "Increase the number of iterations (max_iter) or scale the data as shown in:\n",
      "    https://scikit-learn.org/stable/modules/preprocessing.html\n",
      "Please also refer to the documentation for alternative solver options:\n",
      "    https://scikit-learn.org/stable/modules/linear_model.html#logistic-regression\n",
      "  n_iter_i = _check_optimize_result(\n"
     ]
    }
   ],
   "source": [
    "\n",
    "from sklearn.datasets import load_iris\n",
    "X, y = load_iris(return_X_y=True)\n",
    "clf = LogisticRegression(random_state=0).fit(X, y)\n",
    "clf.predict(X[:2, :])\n",
    "\n",
    "clf.predict_proba(X[:2, :])\n",
    "clf.score(X, y)a"
   ]
  },
  {
   "cell_type": "code",
   "execution_count": 9,
   "metadata": {},
   "outputs": [
    {
     "data": {
      "text/plain": [
       "0.9733333333333334"
      ]
     },
     "execution_count": 9,
     "metadata": {},
     "output_type": "execute_result"
    }
   ],
   "source": []
  },
  {
   "cell_type": "code",
   "execution_count": 33,
   "metadata": {},
   "outputs": [
    {
     "name": "stderr",
     "output_type": "stream",
     "text": [
      "/tmp/ipykernel_2788244/1205071286.py:2: DtypeWarning: Columns (5,159,160,161,163,166,167,168,169,172,174,178,179,180,181,191,193,195,196,198,279,288,341,342,343,344,345,346,347,348,349,350,351,353,398,401,402,410,411,432,435,764,768,769,770,771,777,779,780,781,783,786,789,791,794,796,798,800,803,804,808,810,812,814,815,817,819,822,824,825,884,886) have mixed types. Specify dtype option on import or set low_memory=False.\n",
      "  df = pd.read_csv('./Resources/psychAD/clinical_metadata_full.csv')\n"
     ]
    },
    {
     "data": {
      "text/plain": [
       "(1494, 889)"
      ]
     },
     "execution_count": 33,
     "metadata": {},
     "output_type": "execute_result"
    }
   ],
   "source": [
    "## Inspect variables\n",
    "df = pd.read_csv('./Resources/psychAD/clinical_metadata_full.csv')\n",
    "df.shape"
   ]
  }
 ],
 "metadata": {
  "kernelspec": {
   "display_name": "Python 3 (ipykernel)",
   "language": "python",
   "name": "python3"
  },
  "language_info": {
   "codemirror_mode": {
    "name": "ipython",
    "version": 3
   },
   "file_extension": ".py",
   "mimetype": "text/x-python",
   "name": "python",
   "nbconvert_exporter": "python",
   "pygments_lexer": "ipython3",
   "version": "3.12.4"
  }
 },
 "nbformat": 4,
 "nbformat_minor": 4
}
